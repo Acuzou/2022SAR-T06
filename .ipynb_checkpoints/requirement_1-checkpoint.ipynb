{
 "cells": [
  {
   "cell_type": "code",
   "execution_count": 14,
   "id": "b97a0ca2-d038-4f34-9f5a-0db7ac1a667a",
   "metadata": {},
   "outputs": [],
   "source": [
    "#SAR Project\n",
    "#Nathan COHEN - LEROY Thibault - CUZOU Alexandre"
   ]
  },
  {
   "cell_type": "code",
   "execution_count": null,
   "id": "8d682035-a9f4-49df-a396-e0a90f5b9636",
   "metadata": {},
   "outputs": [],
   "source": []
  }
 ],
 "metadata": {
  "kernelspec": {
   "display_name": "Python 3",
   "language": "python",
   "name": "python3"
  },
  "language_info": {
   "codemirror_mode": {
    "name": "ipython",
    "version": 3
   },
   "file_extension": ".py",
   "mimetype": "text/x-python",
   "name": "python",
   "nbconvert_exporter": "python",
   "pygments_lexer": "ipython3",
   "version": "3.8.8"
  }
 },
 "nbformat": 4,
 "nbformat_minor": 5
}
