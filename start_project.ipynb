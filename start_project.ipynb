{
 "cells": [
  {
   "cell_type": "code",
   "execution_count": 1,
   "id": "b97a0ca2-d038-4f34-9f5a-0db7ac1a667a",
   "metadata": {},
   "outputs": [],
   "source": [
    "#SAR Project\n",
    "#Nathan COHEN - LE ROY Thibault - CUZOU Alexandre\n",
    "#Requirement 1"
   ]
  },
  {
   "cell_type": "code",
   "execution_count": null,
   "id": "6fd54860-2e9b-46e1-8aac-ab54e763c64d",
   "metadata": {},
   "outputs": [],
   "source": []
  },
  {
   "cell_type": "code",
   "execution_count": null,
   "id": "c5e1032b-e83c-4027-b1b6-d598183c1438",
   "metadata": {},
   "outputs": [],
   "source": []
  },
  {
   "cell_type": "code",
   "execution_count": null,
   "id": "5e9abd95-af54-4cec-ad68-5cba1395390d",
   "metadata": {},
   "outputs": [],
   "source": []
  },
  {
   "cell_type": "code",
   "execution_count": null,
   "id": "9d94b69f-e4e5-40e5-85b8-14b2291f300e",
   "metadata": {},
   "outputs": [],
   "source": []
  },
  {
   "cell_type": "code",
   "execution_count": null,
   "id": "c687baa3-1364-4417-a215-de50f9ff4ecb",
   "metadata": {},
   "outputs": [],
   "source": []
  },
  {
   "cell_type": "raw",
   "id": "a7659c17-30a9-4a76-b34b-2d6d43a97052",
   "metadata": {},
   "source": []
  },
  {
   "cell_type": "code",
   "execution_count": null,
   "id": "f082898f-ba9f-4015-bf4c-a5a9b9cd6c33",
   "metadata": {},
   "outputs": [],
   "source": []
  },
  {
   "cell_type": "code",
   "execution_count": null,
   "id": "2c5c1e3e-ff45-4bdf-9c79-ac5cc8bdf3e5",
   "metadata": {},
   "outputs": [],
   "source": []
  }
 ],
 "metadata": {
  "kernelspec": {
   "display_name": "Python 3",
   "language": "python",
   "name": "python3"
  },
  "language_info": {
   "codemirror_mode": {
    "name": "ipython",
    "version": 3
   },
   "file_extension": ".py",
   "mimetype": "text/x-python",
   "name": "python",
   "nbconvert_exporter": "python",
   "pygments_lexer": "ipython3",
   "version": "3.8.8"
  }
 },
 "nbformat": 4,
 "nbformat_minor": 5
}
