{
 "cells": [
  {
   "cell_type": "code",
   "execution_count": null,
   "id": "b97a0ca2-d038-4f34-9f5a-0db7ac1a667a",
   "metadata": {},
   "outputs": [],
   "source": [
    "#SAR Project\n",
    "\n",
    "print(\"Je suis secrètement amoureux de Thibault LE ROY\")"
   ]
  },
  {
   "cell_type": "code",
   "execution_count": null,
   "id": "6fd54860-2e9b-46e1-8aac-ab54e763c64d",
   "metadata": {},
   "outputs": [],
   "source": [
    "!pip install  fastapi"
   ]
  },
  {
   "cell_type": "code",
   "execution_count": null,
   "id": "c5e1032b-e83c-4027-b1b6-d598183c1438",
   "metadata": {},
   "outputs": [],
   "source": [
    "!pip install  uvicorn"
   ]
  },
  {
   "cell_type": "code",
   "execution_count": null,
   "id": "5e9abd95-af54-4cec-ad68-5cba1395390d",
   "metadata": {},
   "outputs": [],
   "source": [
    "!pip install fastapi-utils"
   ]
  },
  {
   "cell_type": "code",
   "execution_count": null,
   "id": "9d94b69f-e4e5-40e5-85b8-14b2291f300e",
   "metadata": {},
   "outputs": [],
   "source": [
    "!pip install nest_asyncio"
   ]
  }
 ],
 "metadata": {
  "kernelspec": {
   "display_name": "Python 3 (ipykernel)",
   "language": "python",
   "name": "python3"
  },
  "language_info": {
   "codemirror_mode": {
    "name": "ipython",
    "version": 3
   },
   "file_extension": ".py",
   "mimetype": "text/x-python",
   "name": "python",
   "nbconvert_exporter": "python",
   "pygments_lexer": "ipython3",
   "version": "3.9.7"
  }
 },
 "nbformat": 4,
 "nbformat_minor": 5
}
