{
 "cells": [
  {
   "cell_type": "code",
   "execution_count": 14,
   "id": "b97a0ca2-d038-4f34-9f5a-0db7ac1a667a",
   "metadata": {},
   "outputs": [],
   "source": [
    "#SAR Project\n",
    "#Nathan COHEN - LEROY Thibault - CUZOU Alexandre"
   ]
  },
  {
   "cell_type": "code",
   "execution_count": 2,
   "id": "6fd54860-2e9b-46e1-8aac-ab54e763c64d",
   "metadata": {},
   "outputs": [
    {
     "name": "stdout",
     "output_type": "stream",
     "text": [
      "Requirement already satisfied: fastapi in c:\\users\\alexa\\anaconda3\\lib\\site-packages (0.78.0)\n",
      "Requirement already satisfied: starlette==0.19.1 in c:\\users\\alexa\\anaconda3\\lib\\site-packages (from fastapi) (0.19.1)\n",
      "Requirement already satisfied: pydantic!=1.7,!=1.7.1,!=1.7.2,!=1.7.3,!=1.8,!=1.8.1,<2.0.0,>=1.6.2 in c:\\users\\alexa\\anaconda3\\lib\\site-packages (from fastapi) (1.9.1)\n",
      "Requirement already satisfied: typing-extensions>=3.10.0 in c:\\users\\alexa\\anaconda3\\lib\\site-packages (from starlette==0.19.1->fastapi) (4.2.0)\n",
      "Requirement already satisfied: anyio<5,>=3.4.0 in c:\\users\\alexa\\anaconda3\\lib\\site-packages (from starlette==0.19.1->fastapi) (3.6.1)\n",
      "Requirement already satisfied: idna>=2.8 in c:\\users\\alexa\\anaconda3\\lib\\site-packages (from anyio<5,>=3.4.0->starlette==0.19.1->fastapi) (2.10)\n",
      "Requirement already satisfied: sniffio>=1.1 in c:\\users\\alexa\\anaconda3\\lib\\site-packages (from anyio<5,>=3.4.0->starlette==0.19.1->fastapi) (1.2.0)\n"
     ]
    }
   ],
   "source": [
    "!pip install  fastapi"
   ]
  },
  {
   "cell_type": "code",
   "execution_count": 3,
   "id": "c5e1032b-e83c-4027-b1b6-d598183c1438",
   "metadata": {},
   "outputs": [
    {
     "name": "stdout",
     "output_type": "stream",
     "text": [
      "Requirement already satisfied: uvicorn in c:\\users\\alexa\\anaconda3\\lib\\site-packages (0.17.6)\n",
      "Requirement already satisfied: click>=7.0 in c:\\users\\alexa\\anaconda3\\lib\\site-packages (from uvicorn) (7.1.2)\n",
      "Requirement already satisfied: h11>=0.8 in c:\\users\\alexa\\anaconda3\\lib\\site-packages (from uvicorn) (0.13.0)\n",
      "Requirement already satisfied: asgiref>=3.4.0 in c:\\users\\alexa\\anaconda3\\lib\\site-packages (from uvicorn) (3.5.2)\n"
     ]
    }
   ],
   "source": [
    "!pip install  uvicorn"
   ]
  },
  {
   "cell_type": "code",
   "execution_count": 4,
   "id": "5e9abd95-af54-4cec-ad68-5cba1395390d",
   "metadata": {},
   "outputs": [
    {
     "name": "stdout",
     "output_type": "stream",
     "text": [
      "Requirement already satisfied: fastapi-utils in c:\\users\\alexa\\anaconda3\\lib\\site-packages (0.2.1)\n",
      "Requirement already satisfied: pydantic<2.0,>=1.0 in c:\\users\\alexa\\anaconda3\\lib\\site-packages (from fastapi-utils) (1.9.1)\n",
      "Requirement already satisfied: fastapi in c:\\users\\alexa\\anaconda3\\lib\\site-packages (from fastapi-utils) (0.78.0)\n",
      "Requirement already satisfied: sqlalchemy<2.0.0,>=1.3.12 in c:\\users\\alexa\\anaconda3\\lib\\site-packages (from fastapi-utils) (1.4.7)\n",
      "Requirement already satisfied: typing-extensions>=3.7.4.3 in c:\\users\\alexa\\anaconda3\\lib\\site-packages (from pydantic<2.0,>=1.0->fastapi-utils) (4.2.0)\n",
      "Requirement already satisfied: greenlet!=0.4.17 in c:\\users\\alexa\\anaconda3\\lib\\site-packages (from sqlalchemy<2.0.0,>=1.3.12->fastapi-utils) (1.0.0)\n",
      "Requirement already satisfied: starlette==0.19.1 in c:\\users\\alexa\\anaconda3\\lib\\site-packages (from fastapi->fastapi-utils) (0.19.1)\n",
      "Requirement already satisfied: anyio<5,>=3.4.0 in c:\\users\\alexa\\anaconda3\\lib\\site-packages (from starlette==0.19.1->fastapi->fastapi-utils) (3.6.1)\n",
      "Requirement already satisfied: idna>=2.8 in c:\\users\\alexa\\anaconda3\\lib\\site-packages (from anyio<5,>=3.4.0->starlette==0.19.1->fastapi->fastapi-utils) (2.10)\n",
      "Requirement already satisfied: sniffio>=1.1 in c:\\users\\alexa\\anaconda3\\lib\\site-packages (from anyio<5,>=3.4.0->starlette==0.19.1->fastapi->fastapi-utils) (1.2.0)\n"
     ]
    }
   ],
   "source": [
    "!pip install fastapi-utils"
   ]
  },
  {
   "cell_type": "code",
   "execution_count": 5,
   "id": "9d94b69f-e4e5-40e5-85b8-14b2291f300e",
   "metadata": {},
   "outputs": [
    {
     "name": "stdout",
     "output_type": "stream",
     "text": [
      "Requirement already satisfied: nest_asyncio in c:\\users\\alexa\\anaconda3\\lib\\site-packages (1.5.1)\n"
     ]
    }
   ],
   "source": [
    "!pip install nest_asyncio"
   ]
  },
  {
   "cell_type": "code",
   "execution_count": 16,
   "id": "c687baa3-1364-4417-a215-de50f9ff4ecb",
   "metadata": {},
   "outputs": [],
   "source": [
    "# test import\n",
    "import entersim.sim.examples.enterprise_example1 as ex1"
   ]
  },
  {
   "cell_type": "raw",
   "id": "a7659c17-30a9-4a76-b34b-2d6d43a97052",
   "metadata": {},
   "source": []
  },
  {
   "cell_type": "code",
   "execution_count": null,
   "id": "f082898f-ba9f-4015-bf4c-a5a9b9cd6c33",
   "metadata": {},
   "outputs": [
    {
     "name": "stderr",
     "output_type": "stream",
     "text": [
      "INFO:     Started server process [29220]\n",
      "INFO:uvicorn.error:Started server process [29220]\n",
      "INFO:     Waiting for application startup.\n",
      "INFO:uvicorn.error:Waiting for application startup.\n",
      "INFO:     Application startup complete.\n",
      "INFO:uvicorn.error:Application startup complete.\n",
      "INFO:     Uvicorn running on http://127.0.0.1:8001 (Press CTRL+C to quit)\n",
      "INFO:uvicorn.error:Uvicorn running on http://127.0.0.1:8001 (Press CTRL+C to quit)\n"
     ]
    }
   ],
   "source": [
    "import uvicorn\n",
    "\n",
    "# import asyncio\n",
    "import nest_asyncio\n",
    "nest_asyncio.apply()\n",
    "\n",
    "uvicorn.run(\"entersim.api.server:app\", host=\"127.0.0.1\", port=8001, log_level=\"info\")"
   ]
  },
  {
   "cell_type": "code",
   "execution_count": null,
   "id": "2c5c1e3e-ff45-4bdf-9c79-ac5cc8bdf3e5",
   "metadata": {},
   "outputs": [],
   "source": []
  }
 ],
 "metadata": {
  "kernelspec": {
   "display_name": "Python 3",
   "language": "python",
   "name": "python3"
  },
  "language_info": {
   "codemirror_mode": {
    "name": "ipython",
    "version": 3
   },
   "file_extension": ".py",
   "mimetype": "text/x-python",
   "name": "python",
   "nbconvert_exporter": "python",
   "pygments_lexer": "ipython3",
   "version": "3.8.8"
  }
 },
 "nbformat": 4,
 "nbformat_minor": 5
}
